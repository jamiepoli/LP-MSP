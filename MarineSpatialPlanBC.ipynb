{
 "cells": [
  {
   "cell_type": "code",
   "execution_count": 1,
   "metadata": {},
   "outputs": [
    {
     "name": "stdout",
     "output_type": "stream",
     "text": [
      "Requirement already satisfied: pulp in /opt/anaconda3/lib/python3.7/site-packages (2.4)\n",
      "Requirement already satisfied: amply>=0.1.2 in /opt/anaconda3/lib/python3.7/site-packages (from pulp) (0.1.4)\n",
      "Requirement already satisfied: docutils>=0.3 in /opt/anaconda3/lib/python3.7/site-packages (from amply>=0.1.2->pulp) (0.16)\n",
      "Requirement already satisfied: pyparsing in /opt/anaconda3/lib/python3.7/site-packages (from amply>=0.1.2->pulp) (2.4.6)\n"
     ]
    }
   ],
   "source": [
    "import sys\n",
    "!{sys.executable} -m pip install pulp \n",
    "\n",
    "import pulp\n",
    "# Import PuLP modeler functions\n",
    "from pulp import * \n",
    "\n",
    "# Numpy \n",
    "import numpy\n",
    "\n",
    "# Seaborn for pretty graphs\n",
    "import seaborn\n",
    "\n",
    "# May do plotly instead for interactivity"
   ]
  },
  {
   "cell_type": "code",
   "execution_count": null,
   "metadata": {},
   "outputs": [],
   "source": [
    "s"
   ]
  },
  {
   "cell_type": "code",
   "execution_count": null,
   "metadata": {},
   "outputs": [],
   "source": []
  }
 ],
 "metadata": {
  "kernelspec": {
   "display_name": "Python 3",
   "language": "python",
   "name": "python3"
  },
  "language_info": {
   "codemirror_mode": {
    "name": "ipython",
    "version": 3
   },
   "file_extension": ".py",
   "mimetype": "text/x-python",
   "name": "python",
   "nbconvert_exporter": "python",
   "pygments_lexer": "ipython3",
   "version": "3.7.6"
  }
 },
 "nbformat": 4,
 "nbformat_minor": 4
}
