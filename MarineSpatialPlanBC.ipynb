{
 "cells": [
  {
   "cell_type": "code",
   "execution_count": 1,
   "metadata": {},
   "outputs": [
    {
     "name": "stdout",
     "output_type": "stream",
     "text": [
      "Requirement already satisfied: pulp in /opt/anaconda3/lib/python3.7/site-packages (2.4)\n",
      "Requirement already satisfied: amply>=0.1.2 in /opt/anaconda3/lib/python3.7/site-packages (from pulp) (0.1.4)\n",
      "Requirement already satisfied: pyparsing in /opt/anaconda3/lib/python3.7/site-packages (from amply>=0.1.2->pulp) (2.4.6)\n",
      "Requirement already satisfied: docutils>=0.3 in /opt/anaconda3/lib/python3.7/site-packages (from amply>=0.1.2->pulp) (0.16)\n"
     ]
    }
   ],
   "source": [
    "import sys\n",
    "!{sys.executable} -m pip install pulp \n",
    "\n",
    "import pulp\n",
    "# Import PuLP modeler functions\n",
    "from pulp import * \n",
    "\n",
    "import numpy\n",
    "import matplotlib as plt\n",
    "import pandas as pd\n",
    "\n",
    "# Seaborn for pretty graphs\n",
    "import seaborn\n",
    "\n",
    "# May do plotly instead for interactivity"
   ]
  },
  {
   "cell_type": "markdown",
   "metadata": {},
   "source": [
    "## Context: Marine Spatial Planning and a Linear Programming Approach"
   ]
  },
  {
   "cell_type": "markdown",
   "metadata": {},
   "source": [
    "## The Decision Variables"
   ]
  },
  {
   "cell_type": "code",
   "execution_count": 2,
   "metadata": {},
   "outputs": [],
   "source": [
    "\"\"\"\n",
    "Strait of Georgia, Northern Shelf, Southern Shelf and Offshore Coast are the 4 main bioregions localized to the \n",
    "BC region.\n",
    "\"\"\"\n",
    "\n",
    "bioregions = ['SG', 'NS', 'SS', 'OC']"
   ]
  },
  {
   "cell_type": "code",
   "execution_count": 3,
   "metadata": {},
   "outputs": [],
   "source": [
    "prob = LpProblem(\"Marine_Spatial_Planning_BC\",LpMinimize)"
   ]
  },
  {
   "cell_type": "code",
   "execution_count": 4,
   "metadata": {},
   "outputs": [],
   "source": [
    "#lowBound = 0 to enforce nonnegativity\n",
    "msp_areas = LpVariable.dicts(\"bioregions\",bioregions,lowBound=0)"
   ]
  },
  {
   "cell_type": "markdown",
   "metadata": {},
   "source": [
    "## The Objective Function"
   ]
  },
  {
   "cell_type": "code",
   "execution_count": 5,
   "metadata": {},
   "outputs": [],
   "source": [
    "prob+=lpSum([msp_areas[i] for i in bioregions]),\"Minimum Area Required for Conservation Use\""
   ]
  },
  {
   "cell_type": "markdown",
   "metadata": {},
   "source": [
    "## The Constraints"
   ]
  },
  {
   "cell_type": "code",
   "execution_count": 6,
   "metadata": {},
   "outputs": [],
   "source": [
    "# PROJECTED NUMBERS\n",
    "\n",
    "#Strait of Georgia = 6,800 km2\n",
    "#Northern Shelf = 101,000 km2\n",
    "#Southern Shelf = 41, 562 km2\n",
    "#Offshore Coast = 335,825 km2\n",
    "\n",
    "bioregion_area = {'SG': 6800,\n",
    "                  'NS': 101000,\n",
    "                  'SS': 41562,\n",
    "                  'OC': 133021}\n",
    "\n",
    "for j in msp_areas:\n",
    "    prob += msp_areas[j] <= bioregion_area[j]\n",
    "\n",
    "\n",
    "def formulateConstraint(percentage, areas):\n",
    "    req = percentage * lpSum ( [ areas[i] * bioregion_area[i] for i in areas] )\n",
    "    return lpSum([areas[i] * msp_areas[i] for i in msp_areas]) >= req\n",
    "\n",
    "    \n",
    "\n",
    "#60.95% of combined land in strait of Georgia, Northern and Southern shelf should accomodate seabirds\n",
    "seabird_percentage = 0.6095\n",
    "seabird_areas = { 'SG': 1,\n",
    "                  'NS': 1,\n",
    "                  'SS': 0,\n",
    "                  'OC': 0}\n",
    "\n",
    "prob += formulateConstraint(seabird_percentage, seabird_areas)\n",
    "\n",
    "\n",
    "#45% of combined land in Northern and Southern shelf should accomodate marine fish life and plantlife\n",
    "shelf_fish_percentage = 0.7186\n",
    "shelf_fish_areas = {'SG': 0,\n",
    "                    'NS': 1,\n",
    "                    'SS': 1,\n",
    "                    'OC': 0}\n",
    "\n",
    "prob += formulateConstraint(shelf_fish_percentage, shelf_fish_areas)\n",
    "\n",
    "\n",
    "\n",
    "#20% of combined land in all bioregions should accomodate marine mammal life\n",
    "mammal_percentage = 0.4416\n",
    "mammal_areas = {    'SG': 1,\n",
    "                    'NS': 1,\n",
    "                    'SS': 1,\n",
    "                    'OC': 1}\n",
    "\n",
    "prob += formulateConstraint(mammal_percentage, mammal_areas)\n"
   ]
  },
  {
   "cell_type": "code",
   "execution_count": 7,
   "metadata": {},
   "outputs": [
    {
     "name": "stdout",
     "output_type": "stream",
     "text": [
      "Marine_Spatial_Planning_BC:\n",
      "MINIMIZE\n",
      "1*bioregions_NS + 1*bioregions_OC + 1*bioregions_SG + 1*bioregions_SS + 0\n",
      "SUBJECT TO\n",
      "_C1: bioregions_SG <= 6800\n",
      "\n",
      "_C2: bioregions_NS <= 101000\n",
      "\n",
      "_C3: bioregions_SS <= 41562\n",
      "\n",
      "_C4: bioregions_OC <= 133021\n",
      "\n",
      "_C5: bioregions_NS + bioregions_SG >= 65704.1\n",
      "\n",
      "_C6: bioregions_NS + bioregions_SS >= 102445.0532\n",
      "\n",
      "_C7: bioregions_NS + bioregions_OC + bioregions_SG + bioregions_SS\n",
      " >= 124700.3328\n",
      "\n",
      "VARIABLES\n",
      "bioregions_NS Continuous\n",
      "bioregions_OC Continuous\n",
      "bioregions_SG Continuous\n",
      "bioregions_SS Continuous\n",
      "\n"
     ]
    },
    {
     "data": {
      "text/plain": [
       "[bioregions_NS, bioregions_OC, bioregions_SG, bioregions_SS]"
      ]
     },
     "execution_count": 7,
     "metadata": {},
     "output_type": "execute_result"
    }
   ],
   "source": [
    "print(prob)\n",
    "\n",
    "#LP also written to .lp file for convenience\n",
    "prob.writeLP(\"BC_MSP.lp\")"
   ]
  },
  {
   "cell_type": "markdown",
   "metadata": {},
   "source": [
    "## Solution to the LP"
   ]
  },
  {
   "cell_type": "code",
   "execution_count": 8,
   "metadata": {},
   "outputs": [
    {
     "name": "stdout",
     "output_type": "stream",
     "text": [
      "Status: Optimal\n",
      "bioregions_NS = 60883.053\n",
      "bioregions_OC = 17434.233\n",
      "bioregions_SG = 4821.0468\n",
      "bioregions_SS = 41562.0\n",
      "Optimal area amount =  124700.3328\n"
     ]
    }
   ],
   "source": [
    "prob.solve()\n",
    "print(\"Status:\",LpStatus[prob.status])\n",
    "\n",
    "for a in prob.variables():\n",
    "    print(a.name,\"=\",a.varValue)\n",
    "    \n",
    "print(\"Optimal area amount = \",value(prob.objective))"
   ]
  },
  {
   "cell_type": "markdown",
   "metadata": {},
   "source": [
    "### Graphical Analysis of the Solution"
   ]
  },
  {
   "cell_type": "code",
   "execution_count": null,
   "metadata": {},
   "outputs": [],
   "source": []
  },
  {
   "cell_type": "markdown",
   "metadata": {},
   "source": [
    "## Accounting for minute changes in our variables - Sensitivity Analysis"
   ]
  }
 ],
 "metadata": {
  "kernelspec": {
   "display_name": "Python 3",
   "language": "python",
   "name": "python3"
  },
  "language_info": {
   "codemirror_mode": {
    "name": "ipython",
    "version": 3
   },
   "file_extension": ".py",
   "mimetype": "text/x-python",
   "name": "python",
   "nbconvert_exporter": "python",
   "pygments_lexer": "ipython3",
   "version": "3.7.6"
  }
 },
 "nbformat": 4,
 "nbformat_minor": 4
}
