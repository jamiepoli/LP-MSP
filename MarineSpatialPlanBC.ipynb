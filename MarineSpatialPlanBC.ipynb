{
 "cells": [
  {
   "cell_type": "code",
   "execution_count": 1,
   "metadata": {},
   "outputs": [
    {
     "name": "stdout",
     "output_type": "stream",
     "text": [
      "Requirement already satisfied: pulp in /opt/anaconda3/lib/python3.7/site-packages (2.4)\n",
      "Requirement already satisfied: amply>=0.1.2 in /opt/anaconda3/lib/python3.7/site-packages (from pulp) (0.1.4)\n",
      "Requirement already satisfied: pyparsing in /opt/anaconda3/lib/python3.7/site-packages (from amply>=0.1.2->pulp) (2.4.6)\n",
      "Requirement already satisfied: docutils>=0.3 in /opt/anaconda3/lib/python3.7/site-packages (from amply>=0.1.2->pulp) (0.16)\n"
     ]
    }
   ],
   "source": [
    "import sys\n",
    "!{sys.executable} -m pip install pulp \n",
    "\n",
    "import pulp\n",
    "# Import PuLP modeler functions\n",
    "from pulp import * \n",
    "\n",
    "import numpy\n",
    "import matplotlib as plt\n",
    "import pandas as pd\n",
    "\n",
    "# Seaborn for pretty graphs\n",
    "import seaborn\n",
    "\n",
    "# May do plotly instead for interactivity"
   ]
  },
  {
   "cell_type": "markdown",
   "metadata": {},
   "source": [
    "## Context: Marine Spatial Planning and a Linear Programming Approach"
   ]
  },
  {
   "cell_type": "markdown",
   "metadata": {},
   "source": [
    "## The Decision Variables"
   ]
  },
  {
   "cell_type": "code",
   "execution_count": null,
   "metadata": {},
   "outputs": [],
   "source": [
    "\"\"\"\n",
    "Strait of Georgia, Northern Shelf, Southern Shelf and Offshore Coast are the 4 main bioregions localized to the \n",
    "BC region.\n",
    "\"\"\"\n",
    "\n",
    "bioregions = ['SG', 'NS', 'SS', 'OC']"
   ]
  },
  {
   "cell_type": "code",
   "execution_count": null,
   "metadata": {},
   "outputs": [],
   "source": [
    "prob = LpProblem(\"Marine_Spatial_Planning_BC\",LpMinimize)"
   ]
  },
  {
   "cell_type": "code",
   "execution_count": null,
   "metadata": {},
   "outputs": [],
   "source": [
    "#lowBound = 0 to enforce nonnegativity\n",
    "msp_areas = LpVariable.dicts(\"bioregions\",bioregion,lowBound=0)"
   ]
  },
  {
   "cell_type": "markdown",
   "metadata": {},
   "source": [
    "## The Objective Function"
   ]
  },
  {
   "cell_type": "code",
   "execution_count": null,
   "metadata": {},
   "outputs": [],
   "source": [
    "prob+=lpSum(msp_areas[i] for i in bioregions]),\"Minimum Area Required\""
   ]
  },
  {
   "cell_type": "markdown",
   "metadata": {},
   "source": [
    "## The Constraints"
   ]
  },
  {
   "cell_type": "code",
   "execution_count": null,
   "metadata": {},
   "outputs": [],
   "source": [
    "# PROJECTED NUMBERS\n",
    "\n",
    "#Strait of Georgia = 6,800 km2\n",
    "#Northern Shelf = 101,000 km2\n",
    "#Southern Shelf = 41, 562 km2\n",
    "#Offshore Coast = 335,825 km2\n",
    "\n",
    "#75% of combined land in strait of Georgia, Northern and Southern shelf should accomodate seabirds \n",
    "\n",
    "#40% of combined land in Northern and Southern shelf should accomodate plantlife \n",
    "\n",
    "#45% of combined land in Northern and Southern shelf should accomodate marine fish life\n",
    "\n",
    "#20% of combined land in Georgia and Offshore coast should accomodate marine fish life"
   ]
  },
  {
   "cell_type": "code",
   "execution_count": null,
   "metadata": {},
   "outputs": [],
   "source": [
    "print(prob)"
   ]
  },
  {
   "cell_type": "markdown",
   "metadata": {},
   "source": [
    "## Solution to the LP"
   ]
  },
  {
   "cell_type": "code",
   "execution_count": null,
   "metadata": {},
   "outputs": [],
   "source": [
    "prob.solve()\n",
    "print(\"Status:\",LpStatus[prob.status])\n",
    "\n",
    "for a in prob.variables():\n",
    "    print(a.name,\"=\",a.varValue)\n",
    "    \n",
    "print(\"Optimal area amount= \",value(prob.objective))"
   ]
  },
  {
   "cell_type": "markdown",
   "metadata": {},
   "source": [
    "## Accounting for minute changes in our variables - Sensitivity Analysis"
   ]
  }
 ],
 "metadata": {
  "kernelspec": {
   "display_name": "Python 3",
   "language": "python",
   "name": "python3"
  },
  "language_info": {
   "codemirror_mode": {
    "name": "ipython",
    "version": 3
   },
   "file_extension": ".py",
   "mimetype": "text/x-python",
   "name": "python",
   "nbconvert_exporter": "python",
   "pygments_lexer": "ipython3",
   "version": "3.7.6"
  }
 },
 "nbformat": 4,
 "nbformat_minor": 4
}
