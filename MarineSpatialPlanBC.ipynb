{
 "cells": [
  {
   "cell_type": "code",
   "execution_count": 1,
   "metadata": {},
   "outputs": [
    {
     "name": "stdout",
     "output_type": "stream",
     "text": [
      "Requirement already satisfied: pulp in /opt/anaconda3/lib/python3.7/site-packages (2.4)\r\n",
      "Requirement already satisfied: amply>=0.1.2 in /opt/anaconda3/lib/python3.7/site-packages (from pulp) (0.1.4)\r\n",
      "Requirement already satisfied: docutils>=0.3 in /opt/anaconda3/lib/python3.7/site-packages (from amply>=0.1.2->pulp) (0.16)\r\n",
      "Requirement already satisfied: pyparsing in /opt/anaconda3/lib/python3.7/site-packages (from amply>=0.1.2->pulp) (2.4.6)\r\n"
     ]
    }
   ],
   "source": [
    "import sys\n",
    "!{sys.executable} -m pip install pulp \n",
    "\n",
    "import pulp\n",
    "# Import PuLP modeler functions\n",
    "from pulp import * \n",
    "\n",
    "import numpy\n",
    "import matplotlib as plt\n",
    "import pandas as pd\n",
    "\n",
    "# Seaborn for pretty graphs\n",
    "import seaborn\n",
    "\n",
    "# May do plotly instead for interactivity"
   ]
  },
  {
   "cell_type": "markdown",
   "metadata": {},
   "source": [
    "## Context: Marine Spatial Planning and a Linear Programming Approach"
   ]
  },
  {
   "cell_type": "markdown",
   "metadata": {},
   "source": [
    "## The Decision Variables"
   ]
  },
  {
   "cell_type": "code",
   "execution_count": 2,
   "metadata": {},
   "outputs": [],
   "source": [
    "\"\"\"\n",
    "Strait of Georgia, Northern Shelf, Southern Shelf and Offshore Coast are the 4 main bioregions localized to the \n",
    "BC region.\n",
    "\"\"\"\n",
    "\n",
    "bioregions = ['SG', 'NS', 'SS', 'OC']"
   ]
  },
  {
   "cell_type": "code",
   "execution_count": 3,
   "metadata": {},
   "outputs": [],
   "source": [
    "prob = LpProblem(\"Marine_Spatial_Planning_BC\",LpMinimize)"
   ]
  },
  {
   "cell_type": "code",
   "execution_count": 4,
   "metadata": {},
   "outputs": [],
   "source": [
    "#lowBound = 0 to enforce nonnegativity\n",
    "msp_areas = LpVariable.dicts(\"bioregions\",bioregions,lowBound=0)"
   ]
  },
  {
   "cell_type": "markdown",
   "metadata": {},
   "source": [
    "## The Objective Function"
   ]
  },
  {
   "cell_type": "code",
   "execution_count": 5,
   "metadata": {},
   "outputs": [],
   "source": [
    "prob+=lpSum([msp_areas[i] for i in bioregions]),\"Minimum Area Required\""
   ]
  },
  {
   "cell_type": "markdown",
   "metadata": {},
   "source": [
    "## The Constraints"
   ]
  },
  {
   "cell_type": "code",
   "execution_count": 6,
   "metadata": {},
   "outputs": [],
   "source": [
    "# PROJECTED NUMBERS\n",
    "\n",
    "#Strait of Georgia = 6,800 km2\n",
    "#Northern Shelf = 101,000 km2\n",
    "#Southern Shelf = 41, 562 km2\n",
    "#Offshore Coast = 335,825 km2\n",
    "\n",
    "bioregion_area = {'SG': 6800,\n",
    "                  'NS': 101000,\n",
    "                  'SS': 41562,\n",
    "                  'OC': 335825}\n",
    "\n",
    "for j in msp_areas:\n",
    "    prob += msp_areas[j] <= bioregion_area[j]\n",
    "\n",
    "\n",
    "\n",
    "#75% of combined land in strait of Georgia, Northern and Southern shelf should accomodate seabirds\n",
    "seabird_areas = { 'SG': 1,\n",
    "                  'NS': 1,\n",
    "                  'SS': 1,\n",
    "                  'OC': 0}\n",
    "\n",
    "prob += lpSum([seabird_areas[i] * msp_areas[i] for i in msp_areas]) >= 112021.5\n",
    "\n",
    "\n",
    "\n",
    "#45% of combined land in Northern and Southern shelf should accomodate marine fish life and plantlife\n",
    "shelf_fish_areas = {'SG': 0,\n",
    "                    'NS': 1,\n",
    "                    'SS': 1,\n",
    "                    'OC': 0}\n",
    "\n",
    "prob += lpSum([shelf_fish_areas[i] * msp_areas[i] for i in msp_areas]) >= 64152.9\n",
    "\n",
    "\n",
    "\n",
    "#20% of combined land in Georgia and Offshore coast should accomodate marine fish life and plantlife\n",
    "other_fish_areas = {'SG': 1,\n",
    "                    'NS': 0,\n",
    "                    'SS': 0,\n",
    "                    'OC': 1}\n",
    "\n",
    "prob += lpSum([other_fish_areas[i] * msp_areas[i] for i in msp_areas]) >= 68525.0\n",
    "\n",
    "#21.9% of combined land in Georgia and Offshore coast should accomodate sector use\n"
   ]
  },
  {
   "cell_type": "code",
   "execution_count": 7,
   "metadata": {},
   "outputs": [
    {
     "name": "stdout",
     "output_type": "stream",
     "text": [
      "Marine_Spatial_Planning_BC:\n",
      "MINIMIZE\n",
      "1*bioregions_NS + 1*bioregions_OC + 1*bioregions_SG + 1*bioregions_SS + 0\n",
      "SUBJECT TO\n",
      "_C1: bioregions_SG <= 6800\n",
      "\n",
      "_C2: bioregions_NS <= 101000\n",
      "\n",
      "_C3: bioregions_SS <= 41562\n",
      "\n",
      "_C4: bioregions_OC <= 335825\n",
      "\n",
      "_C5: bioregions_NS + bioregions_SG + bioregions_SS >= 112021.5\n",
      "\n",
      "_C6: bioregions_NS + bioregions_SS >= 64152.9\n",
      "\n",
      "_C7: bioregions_OC + bioregions_SG >= 68525\n",
      "\n",
      "VARIABLES\n",
      "bioregions_NS Continuous\n",
      "bioregions_OC Continuous\n",
      "bioregions_SG Continuous\n",
      "bioregions_SS Continuous\n",
      "\n"
     ]
    },
    {
     "data": {
      "text/plain": [
       "[bioregions_NS, bioregions_OC, bioregions_SG, bioregions_SS]"
      ]
     },
     "execution_count": 7,
     "metadata": {},
     "output_type": "execute_result"
    }
   ],
   "source": [
    "print(prob)\n",
    "\n",
    "#LP also written to .lp file for convenience\n",
    "prob.writeLP(\"BC_MSP.lp\")"
   ]
  },
  {
   "cell_type": "markdown",
   "metadata": {},
   "source": [
    "## Solution to the LP"
   ]
  },
  {
   "cell_type": "code",
   "execution_count": 8,
   "metadata": {},
   "outputs": [
    {
     "name": "stdout",
     "output_type": "stream",
     "text": [
      "Status: Optimal\n",
      "bioregions_NS = 101000.0\n",
      "bioregions_OC = 61725.0\n",
      "bioregions_SG = 6800.0\n",
      "bioregions_SS = 4221.5\n",
      "Optimal area amount =  173746.5\n"
     ]
    }
   ],
   "source": [
    "prob.solve()\n",
    "print(\"Status:\",LpStatus[prob.status])\n",
    "\n",
    "for a in prob.variables():\n",
    "    print(a.name,\"=\",a.varValue)\n",
    "    \n",
    "print(\"Optimal area amount = \",value(prob.objective))"
   ]
  },
  {
   "cell_type": "markdown",
   "metadata": {},
   "source": [
    "## Accounting for minute changes in our variables - Sensitivity Analysis"
   ]
  }
 ],
 "metadata": {
  "kernelspec": {
   "display_name": "Python 3",
   "language": "python",
   "name": "python3"
  },
  "language_info": {
   "codemirror_mode": {
    "name": "ipython",
    "version": 3
   },
   "file_extension": ".py",
   "mimetype": "text/x-python",
   "name": "python",
   "nbconvert_exporter": "python",
   "pygments_lexer": "ipython3",
   "version": "3.7.6"
  }
 },
 "nbformat": 4,
 "nbformat_minor": 4
}
