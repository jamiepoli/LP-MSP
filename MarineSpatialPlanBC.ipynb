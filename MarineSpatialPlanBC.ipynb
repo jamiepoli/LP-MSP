{
 "cells": [
  {
   "cell_type": "code",
   "execution_count": 1,
   "metadata": {},
   "outputs": [
    {
     "name": "stdout",
     "output_type": "stream",
     "text": [
      "Requirement already satisfied: pulp in /opt/anaconda3/lib/python3.7/site-packages (2.4)\r\n",
      "Requirement already satisfied: amply>=0.1.2 in /opt/anaconda3/lib/python3.7/site-packages (from pulp) (0.1.4)\r\n",
      "Requirement already satisfied: docutils>=0.3 in /opt/anaconda3/lib/python3.7/site-packages (from amply>=0.1.2->pulp) (0.16)\r\n",
      "Requirement already satisfied: pyparsing in /opt/anaconda3/lib/python3.7/site-packages (from amply>=0.1.2->pulp) (2.4.6)\r\n"
     ]
    }
   ],
   "source": [
    "import sys\n",
    "!{sys.executable} -m pip install pulp \n",
    "\n",
    "import pulp\n",
    "# Import PuLP modeler functions\n",
    "from pulp import * \n",
    "\n",
    "import numpy\n",
    "import matplotlib as plt\n",
    "import pandas as pd\n",
    "\n",
    "# Seaborn for pretty graphs\n",
    "import seaborn\n",
    "\n"
   ]
  },
  {
   "cell_type": "markdown",
   "metadata": {},
   "source": [
    "## Context: Marine Spatial Planning and a Linear Programming Approach"
   ]
  },
  {
   "cell_type": "markdown",
   "metadata": {},
   "source": [
    "## The Decision Variables"
   ]
  },
  {
   "cell_type": "code",
   "execution_count": 2,
   "metadata": {},
   "outputs": [],
   "source": [
    "\"\"\"\n",
    "Strait of Georgia, Northern Shelf, Southern Shelf and Offshore Coast are the 4 main bioregions localized to the \n",
    "BC region.\n",
    "\"\"\"\n",
    "\n",
    "bioregions = ['SG', 'NS', 'SS', 'OC']"
   ]
  },
  {
   "cell_type": "code",
   "execution_count": 3,
   "metadata": {},
   "outputs": [],
   "source": [
    "prob = LpProblem(\"Marine_Spatial_Planning_BC\",LpMinimize)"
   ]
  },
  {
   "cell_type": "code",
   "execution_count": 4,
   "metadata": {},
   "outputs": [],
   "source": [
    "#lowBound = 0 to enforce nonnegativity\n",
    "msp_areas = LpVariable.dicts(\"br\",bioregions,lowBound=0)"
   ]
  },
  {
   "cell_type": "markdown",
   "metadata": {},
   "source": [
    "## The Objective Function"
   ]
  },
  {
   "cell_type": "code",
   "execution_count": 5,
   "metadata": {},
   "outputs": [],
   "source": [
    "prob+=lpSum([msp_areas[i] for i in bioregions]),\"Minimum Area Required for Conservation Use\""
   ]
  },
  {
   "cell_type": "markdown",
   "metadata": {},
   "source": [
    "## The Constraints"
   ]
  },
  {
   "cell_type": "code",
   "execution_count": 6,
   "metadata": {},
   "outputs": [],
   "source": [
    "# PROJECTED NUMBERS\n",
    "\n",
    "#Strait of Georgia = 6,800 km2\n",
    "#Northern Shelf = 101,000 km2\n",
    "#Southern Shelf = 41, 562 km2\n",
    "#Offshore Coast = 335,825 km2\n",
    "\n",
    "bioregion_area = {'SG': 6800,\n",
    "                  'NS': 101000,\n",
    "                  'SS': 41562,\n",
    "                  'OC': 133021}\n",
    "\n",
    "for j in msp_areas:\n",
    "    prob += msp_areas[j] <= bioregion_area[j]\n",
    "\n",
    "\n",
    "def formulateConstraint(percentage, areas):\n",
    "    req = percentage * lpSum ( [ areas[i] * bioregion_area[i] for i in areas] )\n",
    "    return lpSum([areas[i] * msp_areas[i] for i in msp_areas]) >= req\n",
    "\n",
    "    \n",
    "\n",
    "#60.95% of combined land in strait of Georgia, Northern and Southern shelf should accomodate seabirds\n",
    "seabird_percentage = 0.6095\n",
    "seabird_areas = { 'SG': 1,\n",
    "                  'NS': 1,\n",
    "                  'SS': 1,\n",
    "                  'OC': 0}\n",
    "\n",
    "prob += formulateConstraint(seabird_percentage, seabird_areas),\"Seabird\"\n",
    "\n",
    "\n",
    "#71.86% of combined land in Northern and Southern shelf should accomodate marine fish life and plantlife\n",
    "shelf_fish_percentage = 0.7186\n",
    "shelf_fish_areas = {'SG': 0,\n",
    "                    'NS': 1,\n",
    "                    'SS': 1,\n",
    "                    'OC': 1}\n",
    "\n",
    "prob += formulateConstraint(shelf_fish_percentage, shelf_fish_areas), \"Fish\"\n",
    "\n",
    "\n",
    "\n",
    "#44.16% of combined land in all bio-regions but the Strait of Georgia\n",
    "mammal_percentage = 0.4416\n",
    "mammal_areas = {    'SG': 1,\n",
    "                    'NS': 1,\n",
    "                    'SS': 0,\n",
    "                    'OC': 1}\n",
    "\n",
    "prob += formulateConstraint(mammal_percentage, mammal_areas), \"Mammal\"\n"
   ]
  },
  {
   "cell_type": "code",
   "execution_count": 7,
   "metadata": {},
   "outputs": [
    {
     "name": "stdout",
     "output_type": "stream",
     "text": [
      "Marine_Spatial_Planning_BC:\n",
      "MINIMIZE\n",
      "1*br_NS + 1*br_OC + 1*br_SG + 1*br_SS + 0\n",
      "SUBJECT TO\n",
      "_C1: br_SG <= 6800\n",
      "\n",
      "_C2: br_NS <= 101000\n",
      "\n",
      "_C3: br_SS <= 41562\n",
      "\n",
      "_C4: br_OC <= 133021\n",
      "\n",
      "Seabird: br_NS + br_SG + br_SS >= 91036.139\n",
      "\n",
      "Fish: br_NS + br_OC + br_SS >= 198033.9438\n",
      "\n",
      "Mammal: br_NS + br_OC + br_SG >= 106346.5536\n",
      "\n",
      "VARIABLES\n",
      "br_NS Continuous\n",
      "br_OC Continuous\n",
      "br_SG Continuous\n",
      "br_SS Continuous\n",
      "\n"
     ]
    },
    {
     "data": {
      "text/plain": [
       "[br_NS, br_OC, br_SG, br_SS]"
      ]
     },
     "execution_count": 7,
     "metadata": {},
     "output_type": "execute_result"
    }
   ],
   "source": [
    "print(prob)\n",
    "\n",
    "#LP also written to .lp file for convenience\n",
    "prob.writeLP(\"BC_MSP.lp\")"
   ]
  },
  {
   "cell_type": "markdown",
   "metadata": {},
   "source": [
    "## Solution to the LP"
   ]
  },
  {
   "cell_type": "code",
   "execution_count": 8,
   "metadata": {},
   "outputs": [
    {
     "name": "stdout",
     "output_type": "stream",
     "text": [
      "Status: Optimal\n",
      "br_NS = 49474.139\n",
      "br_OC = 106997.8\n",
      "br_SG = 0.0\n",
      "br_SS = 41562.0\n",
      "Optimal area amount =  198033.939\n"
     ]
    }
   ],
   "source": [
    "prob.solve()\n",
    "print(\"Status:\",LpStatus[prob.status])\n",
    "\n",
    "for a in prob.variables():\n",
    "    print(a.name,\"=\",a.varValue)\n",
    "    \n",
    "print(\"Optimal area amount = \",value(prob.objective))"
   ]
  },
  {
   "cell_type": "markdown",
   "metadata": {},
   "source": [
    "### Graphical Analysis of the Solution"
   ]
  },
  {
   "cell_type": "code",
   "execution_count": null,
   "metadata": {},
   "outputs": [],
   "source": []
  },
  {
   "cell_type": "markdown",
   "metadata": {},
   "source": [
    "## Accounting for minute changes in our variables - Sensitivity Analysis"
   ]
  },
  {
   "cell_type": "code",
   "execution_count": 9,
   "metadata": {},
   "outputs": [
    {
     "name": "stdout",
     "output_type": "stream",
     "text": [
      "\n",
      "Sensitivity Analysis\n",
      "Constraint\t\t\t\tShadow Price\t\t\tSlack\n",
      "_C1 : br_SG <= 6800 \t\t\t 0.0 \t\t\t\t 6800.0\n",
      "_C2 : br_NS <= 101000 \t\t\t 0.0 \t\t\t\t 51525.861\n",
      "_C3 : br_SS <= 41562 \t\t\t 0.0 \t\t\t\t -0.0\n",
      "_C4 : br_OC <= 133021 \t\t\t 0.0 \t\t\t\t 26023.199999999997\n",
      "Seabird : br_NS + br_SG + br_SS >= 91036.13900000001 \t\t\t 0.0 \t\t\t\t 1.4551915228366852e-11\n",
      "Fish : br_NS + br_OC + br_SS >= 198033.9438 \t\t\t 1.0 \t\t\t\t 0.0038000000058673322\n",
      "Mammal : br_NS + br_OC + br_SG >= 106346.5536 \t\t\t 0.0 \t\t\t\t -50125.3864\n"
     ]
    }
   ],
   "source": [
    "print(\"\\nSensitivity Analysis\\nConstraint\\t\\t\\t\\tShadow Price\\t\\t\\tSlack\")\n",
    "for name, c in prob.constraints.items():\n",
    "    print(name, \":\", c, \"\\t\\t\\t\", c.pi, \"\\t\\t\\t\\t\", c.slack)\n"
   ]
  },
  {
   "cell_type": "code",
   "execution_count": null,
   "metadata": {},
   "outputs": [],
   "source": []
  }
 ],
 "metadata": {
  "kernelspec": {
   "display_name": "Python 3",
   "language": "python",
   "name": "python3"
  },
  "language_info": {
   "codemirror_mode": {
    "name": "ipython",
    "version": 3
   },
   "file_extension": ".py",
   "mimetype": "text/x-python",
   "name": "python",
   "nbconvert_exporter": "python",
   "pygments_lexer": "ipython3",
   "version": "3.7.6"
  }
 },
 "nbformat": 4,
 "nbformat_minor": 4
}
